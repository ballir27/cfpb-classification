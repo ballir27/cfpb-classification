{
 "cells": [
  {
   "cell_type": "markdown",
   "id": "31f75184",
   "metadata": {},
   "source": [
    "# Classification of Consumer Complaints\n",
    "\n",
    "The Consumer Financial Protection Bureau publishes the Consumer Complaint Database, a collection of complaints about consumer financial products and services that were sent to companies for response. Complaints are published after the company responds, confirming a commercial relationship with the consumer, or after 15 days, whichever comes first. \n",
    "\n",
    "You have been provided with a dataset of over 350,000 such complaints for 5 common issue types. Your goal is to train a text classification model to identify the issue type based on the consumer complaint narrative. The data can be downloaded from https://drive.google.com/file/d/1Hz1gnCCr-SDGjnKgcPbg7Nd3NztOLdxw/view?usp=share_link \n",
    "\n",
    "At the end of the project, your team should should prepare a short presentation where you talk about the following:\n",
    "* What steps did you take to preprocess the data?\n",
    "* How did a model using unigrams compare to one using bigrams or trigrams?\n",
    "* How did a count vectorizer compare to a tfidf vectorizer?\n",
    "* What models did you try and how successful were they? Where did they struggle? Were there issues that the models commonly mixed up?\n",
    "* What words or phrases were most influential on your models' predictions?\n",
    "\n",
    "**Bonus:** A larger dataset containing 20 additional categories can be downloaded from https://drive.google.com/file/d/1gW6LScUL-Z7mH6gUZn-1aNzm4p4CvtpL/view?usp=share_link. How well do your models work with these additional categories?"
   ]
  },
  {
   "cell_type": "code",
   "execution_count": 2,
   "id": "07044091",
   "metadata": {},
   "outputs": [],
   "source": [
    "import pandas as pd\n",
    "import numpy as np\n",
    "\n",
    "from joblib import dump, load\n",
    "\n",
    "from sklearn.naive_bayes import MultinomialNB\n",
    "\n",
    "from sklearn.model_selection import train_test_split, RandomizedSearchCV\n",
    "from sklearn.pipeline import Pipeline\n",
    "from sklearn.feature_extraction.text import CountVectorizer, TfidfVectorizer\n",
    "from sklearn.metrics import accuracy_score, confusion_matrix"
   ]
  },
  {
   "cell_type": "code",
   "execution_count": 3,
   "id": "5e7bdfc6",
   "metadata": {},
   "outputs": [],
   "source": [
    "complaints = pd.read_csv('../data/complaints_sentimentscore.csv')"
   ]
  },
  {
   "cell_type": "code",
   "execution_count": 4,
   "id": "62b88d43",
   "metadata": {},
   "outputs": [
    {
     "data": {
      "text/html": [
       "<div>\n",
       "<style scoped>\n",
       "    .dataframe tbody tr th:only-of-type {\n",
       "        vertical-align: middle;\n",
       "    }\n",
       "\n",
       "    .dataframe tbody tr th {\n",
       "        vertical-align: top;\n",
       "    }\n",
       "\n",
       "    .dataframe thead th {\n",
       "        text-align: right;\n",
       "    }\n",
       "</style>\n",
       "<table border=\"1\" class=\"dataframe\">\n",
       "  <thead>\n",
       "    <tr style=\"text-align: right;\">\n",
       "      <th></th>\n",
       "      <th>Unnamed: 0</th>\n",
       "      <th>narrative</th>\n",
       "      <th>issue</th>\n",
       "      <th>review_sentiment</th>\n",
       "    </tr>\n",
       "  </thead>\n",
       "  <tbody>\n",
       "    <tr>\n",
       "      <th>0</th>\n",
       "      <td>0</td>\n",
       "      <td>My name is XXXX XXXX this complaint is not mad...</td>\n",
       "      <td>Incorrect information on your report</td>\n",
       "      <td>0.7398</td>\n",
       "    </tr>\n",
       "    <tr>\n",
       "      <th>1</th>\n",
       "      <td>1</td>\n",
       "      <td>I searched on XXXX for XXXXXXXX XXXX  and was ...</td>\n",
       "      <td>Fraud or scam</td>\n",
       "      <td>-0.7457</td>\n",
       "    </tr>\n",
       "  </tbody>\n",
       "</table>\n",
       "</div>"
      ],
      "text/plain": [
       "   Unnamed: 0                                          narrative  \\\n",
       "0           0  My name is XXXX XXXX this complaint is not mad...   \n",
       "1           1  I searched on XXXX for XXXXXXXX XXXX  and was ...   \n",
       "\n",
       "                                  issue  review_sentiment  \n",
       "0  Incorrect information on your report            0.7398  \n",
       "1                         Fraud or scam           -0.7457  "
      ]
     },
     "execution_count": 4,
     "metadata": {},
     "output_type": "execute_result"
    }
   ],
   "source": [
    "complaints.head(2)"
   ]
  },
  {
   "cell_type": "markdown",
   "id": "0fe579b2",
   "metadata": {},
   "source": [
    "Need to build a simple numerical classification off 'issue'.  "
   ]
  },
  {
   "cell_type": "code",
   "execution_count": 5,
   "id": "8eb78d80",
   "metadata": {},
   "outputs": [
    {
     "data": {
      "text/plain": [
       "issue\n",
       "Incorrect information on your report    229305\n",
       "Attempts to collect debt not owed        73163\n",
       "Communication tactics                    21243\n",
       "Struggling to pay mortgage               17374\n",
       "Fraud or scam                            12347\n",
       "Name: count, dtype: int64"
      ]
     },
     "execution_count": 5,
     "metadata": {},
     "output_type": "execute_result"
    }
   ],
   "source": [
    "complaints['issue'].value_counts()"
   ]
  },
  {
   "cell_type": "code",
   "execution_count": 11,
   "id": "2308d3eb",
   "metadata": {},
   "outputs": [],
   "source": [
    "def categorize_issues(issue):\n",
    "    if 'Incorrect information on your report' in issue:\n",
    "        return '1'\n",
    "    elif 'Attempts to collect debt not owed' in issue:\n",
    "        return '2'\n",
    "    elif 'Communication tactics' in issue:\n",
    "        return '3'\n",
    "    elif 'Struggling to pay mortgage' in issue:\n",
    "        return '4'\n",
    "    else:\n",
    "        return '5'\n",
    "\n",
    "complaints['category'] = complaints['issue'].apply(categorize_issue)"
   ]
  },
  {
   "cell_type": "code",
   "execution_count": 12,
   "id": "d7336556",
   "metadata": {},
   "outputs": [
    {
     "data": {
      "text/html": [
       "<div>\n",
       "<style scoped>\n",
       "    .dataframe tbody tr th:only-of-type {\n",
       "        vertical-align: middle;\n",
       "    }\n",
       "\n",
       "    .dataframe tbody tr th {\n",
       "        vertical-align: top;\n",
       "    }\n",
       "\n",
       "    .dataframe thead th {\n",
       "        text-align: right;\n",
       "    }\n",
       "</style>\n",
       "<table border=\"1\" class=\"dataframe\">\n",
       "  <thead>\n",
       "    <tr style=\"text-align: right;\">\n",
       "      <th></th>\n",
       "      <th>Unnamed: 0</th>\n",
       "      <th>narrative</th>\n",
       "      <th>issue</th>\n",
       "      <th>review_sentiment</th>\n",
       "      <th>category</th>\n",
       "    </tr>\n",
       "  </thead>\n",
       "  <tbody>\n",
       "    <tr>\n",
       "      <th>0</th>\n",
       "      <td>0</td>\n",
       "      <td>My name is XXXX XXXX this complaint is not mad...</td>\n",
       "      <td>Incorrect information on your report</td>\n",
       "      <td>0.7398</td>\n",
       "      <td>1</td>\n",
       "    </tr>\n",
       "    <tr>\n",
       "      <th>1</th>\n",
       "      <td>1</td>\n",
       "      <td>I searched on XXXX for XXXXXXXX XXXX  and was ...</td>\n",
       "      <td>Fraud or scam</td>\n",
       "      <td>-0.7457</td>\n",
       "      <td>5</td>\n",
       "    </tr>\n",
       "    <tr>\n",
       "      <th>2</th>\n",
       "      <td>2</td>\n",
       "      <td>I have a particular account that is stating th...</td>\n",
       "      <td>Incorrect information on your report</td>\n",
       "      <td>0.6808</td>\n",
       "      <td>1</td>\n",
       "    </tr>\n",
       "    <tr>\n",
       "      <th>3</th>\n",
       "      <td>3</td>\n",
       "      <td>I have not supplied proof under the doctrine o...</td>\n",
       "      <td>Attempts to collect debt not owed</td>\n",
       "      <td>-0.9730</td>\n",
       "      <td>2</td>\n",
       "    </tr>\n",
       "    <tr>\n",
       "      <th>4</th>\n",
       "      <td>4</td>\n",
       "      <td>Hello i'm writing regarding account on my cred...</td>\n",
       "      <td>Incorrect information on your report</td>\n",
       "      <td>0.5944</td>\n",
       "      <td>1</td>\n",
       "    </tr>\n",
       "  </tbody>\n",
       "</table>\n",
       "</div>"
      ],
      "text/plain": [
       "   Unnamed: 0                                          narrative  \\\n",
       "0           0  My name is XXXX XXXX this complaint is not mad...   \n",
       "1           1  I searched on XXXX for XXXXXXXX XXXX  and was ...   \n",
       "2           2  I have a particular account that is stating th...   \n",
       "3           3  I have not supplied proof under the doctrine o...   \n",
       "4           4  Hello i'm writing regarding account on my cred...   \n",
       "\n",
       "                                  issue  review_sentiment category  \n",
       "0  Incorrect information on your report            0.7398        1  \n",
       "1                         Fraud or scam           -0.7457        5  \n",
       "2  Incorrect information on your report            0.6808        1  \n",
       "3     Attempts to collect debt not owed           -0.9730        2  \n",
       "4  Incorrect information on your report            0.5944        1  "
      ]
     },
     "execution_count": 12,
     "metadata": {},
     "output_type": "execute_result"
    }
   ],
   "source": [
    "complaints.head()"
   ]
  },
  {
   "cell_type": "code",
   "execution_count": 13,
   "id": "4373c5c9",
   "metadata": {},
   "outputs": [],
   "source": [
    "X = complaints[['narrative', 'review_sentiment']]\n",
    "y = complaints['category']\n",
    "\n",
    "X_train, X_test, y_train, y_test = train_test_split(X, y, random_state = 321, stratify = y)"
   ]
  },
  {
   "cell_type": "code",
   "execution_count": 14,
   "id": "ab346a66",
   "metadata": {},
   "outputs": [],
   "source": [
    "vect = CountVectorizer()\n",
    "clf = MultinomialNB()\n",
    "\n",
    "pipe = Pipeline([(\"vect\", vect), (\"clf\", clf)])\n",
    "\n",
    "param_grid = {\n",
    "    'vect__ngram_range':[(1,1), (1,2), (1,3)],\n",
    "    'vect__min_df':[1, 2, 5, 10, 20],\n",
    "    'clf__fit_prior':[1,2,3,4,5]\n",
    "}"
   ]
  },
  {
   "cell_type": "code",
   "execution_count": null,
   "id": "1be8fa75",
   "metadata": {},
   "outputs": [
    {
     "name": "stdout",
     "output_type": "stream",
     "text": [
      "Fitting 5 folds for each of 10 candidates, totalling 50 fits\n"
     ]
    }
   ],
   "source": [
    "rs = RandomizedSearchCV(estimator = pipe, param_distributions = param_grid, verbose = 2, n_jobs = -1)\n",
    "rs.fit(X_train['narrative'], y_train)\n",
    "\n",
    "dump(rs, \"../data/cv_01.joblib\")"
   ]
  },
  {
   "cell_type": "code",
   "execution_count": null,
   "id": "8addb29f",
   "metadata": {},
   "outputs": [],
   "source": [
    "rs = load(\"../data/cv_01.joblib\")"
   ]
  },
  {
   "cell_type": "code",
   "execution_count": null,
   "id": "aa0fbc7b",
   "metadata": {},
   "outputs": [],
   "source": [
    "y_pred = rs.best_estimator_.predict(X_test['narrative'])\n",
    "\n",
    "print(f'Accuracy: {accuracy_score(y_test, y_pred)}')\n",
    "print(confusion_matrix(y_test, y_pred))"
   ]
  },
  {
   "cell_type": "code",
   "execution_count": 10,
   "id": "1a2a38f5",
   "metadata": {},
   "outputs": [
    {
     "name": "stdout",
     "output_type": "stream",
     "text": [
      "Number of true predictions: 70589\n",
      "Number of false predictions: 17769\n"
     ]
    }
   ],
   "source": [
    "true_predictions=y_test==y_pred\n",
    "false_predictions=y_test!=y_pred\n",
    "\n",
    "print('Number of true predictions:', np.sum(true_predictions))\n",
    "print('Number of false predictions:', np.sum(false_predictions))"
   ]
  },
  {
   "cell_type": "code",
   "execution_count": null,
   "id": "053757b3",
   "metadata": {},
   "outputs": [],
   "source": []
  }
 ],
 "metadata": {
  "kernelspec": {
   "display_name": "Python 3 (ipykernel)",
   "language": "python",
   "name": "python3"
  },
  "language_info": {
   "codemirror_mode": {
    "name": "ipython",
    "version": 3
   },
   "file_extension": ".py",
   "mimetype": "text/x-python",
   "name": "python",
   "nbconvert_exporter": "python",
   "pygments_lexer": "ipython3",
   "version": "3.11.8"
  }
 },
 "nbformat": 4,
 "nbformat_minor": 5
}
