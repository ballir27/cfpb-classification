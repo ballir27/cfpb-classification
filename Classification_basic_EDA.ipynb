{
 "cells": [
  {
   "cell_type": "markdown",
   "id": "31f75184",
   "metadata": {},
   "source": [
    "# Classification of Consumer Complaints\n",
    "\n",
    "The Consumer Financial Protection Bureau publishes the Consumer Complaint Database, a collection of complaints about consumer financial products and services that were sent to companies for response. Complaints are published after the company responds, confirming a commercial relationship with the consumer, or after 15 days, whichever comes first. \n",
    "\n",
    "You have been provided with a dataset of over 350,000 such complaints for 5 common issue types. Your goal is to train a text classification model to identify the issue type based on the consumer complaint narrative. The data can be downloaded from https://drive.google.com/file/d/1Hz1gnCCr-SDGjnKgcPbg7Nd3NztOLdxw/view?usp=share_link \n",
    "\n",
    "At the end of the project, your team should should prepare a short presentation where you talk about the following:\n",
    "* What steps did you take to preprocess the data?\n",
    "* How did a model using unigrams compare to one using bigrams or trigrams?\n",
    "* How did a count vectorizer compare to a tfidf vectorizer?\n",
    "* What models did you try and how successful were they? Where did they struggle? Were there issues that the models commonly mixed up?\n",
    "* What words or phrases were most influential on your models' predictions?\n",
    "\n",
    "**Bonus:** A larger dataset containing 20 additional categories can be downloaded from https://drive.google.com/file/d/1gW6LScUL-Z7mH6gUZn-1aNzm4p4CvtpL/view?usp=share_link. How well do your models work with these additional categories?"
   ]
  },
  {
   "cell_type": "code",
   "execution_count": 1,
   "id": "07044091",
   "metadata": {},
   "outputs": [],
   "source": [
    "import pandas as pd\n",
    "import numpy as np\n",
    "import missingno as msno"
   ]
  },
  {
   "cell_type": "code",
   "execution_count": 2,
   "id": "5e7bdfc6",
   "metadata": {},
   "outputs": [],
   "source": [
    "complaints = pd.read_csv('../data/complaints.csv')"
   ]
  },
  {
   "cell_type": "code",
   "execution_count": 3,
   "id": "d00e2c71",
   "metadata": {},
   "outputs": [],
   "source": [
    "complaints=complaints.rename(columns={'Consumer complaint narrative':'narrative', 'Issue':'issue'})"
   ]
  },
  {
   "cell_type": "code",
   "execution_count": 4,
   "id": "82d15188",
   "metadata": {},
   "outputs": [
    {
     "data": {
      "text/html": [
       "<div>\n",
       "<style scoped>\n",
       "    .dataframe tbody tr th:only-of-type {\n",
       "        vertical-align: middle;\n",
       "    }\n",
       "\n",
       "    .dataframe tbody tr th {\n",
       "        vertical-align: top;\n",
       "    }\n",
       "\n",
       "    .dataframe thead th {\n",
       "        text-align: right;\n",
       "    }\n",
       "</style>\n",
       "<table border=\"1\" class=\"dataframe\">\n",
       "  <thead>\n",
       "    <tr style=\"text-align: right;\">\n",
       "      <th></th>\n",
       "      <th>narrative</th>\n",
       "      <th>issue</th>\n",
       "    </tr>\n",
       "  </thead>\n",
       "  <tbody>\n",
       "    <tr>\n",
       "      <th>0</th>\n",
       "      <td>My name is XXXX XXXX this complaint is not mad...</td>\n",
       "      <td>Incorrect information on your report</td>\n",
       "    </tr>\n",
       "    <tr>\n",
       "      <th>1</th>\n",
       "      <td>I searched on XXXX for XXXXXXXX XXXX  and was ...</td>\n",
       "      <td>Fraud or scam</td>\n",
       "    </tr>\n",
       "    <tr>\n",
       "      <th>2</th>\n",
       "      <td>I have a particular account that is stating th...</td>\n",
       "      <td>Incorrect information on your report</td>\n",
       "    </tr>\n",
       "    <tr>\n",
       "      <th>3</th>\n",
       "      <td>I have not supplied proof under the doctrine o...</td>\n",
       "      <td>Attempts to collect debt not owed</td>\n",
       "    </tr>\n",
       "    <tr>\n",
       "      <th>4</th>\n",
       "      <td>Hello i'm writing regarding account on my cred...</td>\n",
       "      <td>Incorrect information on your report</td>\n",
       "    </tr>\n",
       "  </tbody>\n",
       "</table>\n",
       "</div>"
      ],
      "text/plain": [
       "                                           narrative  \\\n",
       "0  My name is XXXX XXXX this complaint is not mad...   \n",
       "1  I searched on XXXX for XXXXXXXX XXXX  and was ...   \n",
       "2  I have a particular account that is stating th...   \n",
       "3  I have not supplied proof under the doctrine o...   \n",
       "4  Hello i'm writing regarding account on my cred...   \n",
       "\n",
       "                                  issue  \n",
       "0  Incorrect information on your report  \n",
       "1                         Fraud or scam  \n",
       "2  Incorrect information on your report  \n",
       "3     Attempts to collect debt not owed  \n",
       "4  Incorrect information on your report  "
      ]
     },
     "execution_count": 4,
     "metadata": {},
     "output_type": "execute_result"
    }
   ],
   "source": [
    "complaints.head()"
   ]
  },
  {
   "cell_type": "code",
   "execution_count": 5,
   "id": "e1613cd8",
   "metadata": {},
   "outputs": [
    {
     "data": {
      "text/html": [
       "<div>\n",
       "<style scoped>\n",
       "    .dataframe tbody tr th:only-of-type {\n",
       "        vertical-align: middle;\n",
       "    }\n",
       "\n",
       "    .dataframe tbody tr th {\n",
       "        vertical-align: top;\n",
       "    }\n",
       "\n",
       "    .dataframe thead th {\n",
       "        text-align: right;\n",
       "    }\n",
       "</style>\n",
       "<table border=\"1\" class=\"dataframe\">\n",
       "  <thead>\n",
       "    <tr style=\"text-align: right;\">\n",
       "      <th></th>\n",
       "      <th>narrative</th>\n",
       "      <th>issue</th>\n",
       "    </tr>\n",
       "  </thead>\n",
       "  <tbody>\n",
       "    <tr>\n",
       "      <th>count</th>\n",
       "      <td>353432</td>\n",
       "      <td>353432</td>\n",
       "    </tr>\n",
       "    <tr>\n",
       "      <th>unique</th>\n",
       "      <td>353228</td>\n",
       "      <td>5</td>\n",
       "    </tr>\n",
       "    <tr>\n",
       "      <th>top</th>\n",
       "      <td>My information was used to obtain an apartment...</td>\n",
       "      <td>Incorrect information on your report</td>\n",
       "    </tr>\n",
       "    <tr>\n",
       "      <th>freq</th>\n",
       "      <td>3</td>\n",
       "      <td>229305</td>\n",
       "    </tr>\n",
       "  </tbody>\n",
       "</table>\n",
       "</div>"
      ],
      "text/plain": [
       "                                                narrative  \\\n",
       "count                                              353432   \n",
       "unique                                             353228   \n",
       "top     My information was used to obtain an apartment...   \n",
       "freq                                                    3   \n",
       "\n",
       "                                       issue  \n",
       "count                                 353432  \n",
       "unique                                     5  \n",
       "top     Incorrect information on your report  \n",
       "freq                                  229305  "
      ]
     },
     "execution_count": 5,
     "metadata": {},
     "output_type": "execute_result"
    }
   ],
   "source": [
    "complaints.describe()"
   ]
  },
  {
   "cell_type": "code",
   "execution_count": 6,
   "id": "7fab4397",
   "metadata": {},
   "outputs": [
    {
     "data": {
      "text/plain": [
       "(353432, 2)"
      ]
     },
     "execution_count": 6,
     "metadata": {},
     "output_type": "execute_result"
    }
   ],
   "source": [
    "complaints.shape"
   ]
  },
  {
   "cell_type": "code",
   "execution_count": 7,
   "id": "a46dbd02",
   "metadata": {},
   "outputs": [
    {
     "data": {
      "text/plain": [
       "issue\n",
       "Incorrect information on your report    229305\n",
       "Attempts to collect debt not owed        73163\n",
       "Communication tactics                    21243\n",
       "Struggling to pay mortgage               17374\n",
       "Fraud or scam                            12347\n",
       "Name: count, dtype: int64"
      ]
     },
     "execution_count": 7,
     "metadata": {},
     "output_type": "execute_result"
    }
   ],
   "source": [
    "complaints['issue'].value_counts()"
   ]
  },
  {
   "cell_type": "code",
   "execution_count": 8,
   "id": "9749974d",
   "metadata": {},
   "outputs": [
    {
     "data": {
      "text/plain": [
       "narrative\n",
       "My information was used to obtain an apartment, cell phone, and an auto loan with my ex-partner. I am a victim of identity theft and have put this off for too long. I've completed the proper steps, 1. notify creditors 2. police report 3. informed the state of Texas. The individual I've suspected for this theft is now deceased, and the police department said to contact the federal trade commission to seek relief. These companies disregard laws and don't care who's credit or lives they impact.                                                                                                                                                                                                                                                                                                                                                                                                                                                                                                                                                                                                                                                                                                                                                                                                                                                                                                                                                                                                                                                                                                                                                                                                                                                                                                                                                                                                                                                                                                                                                                                                                                                                                                                                     3\n",
       "In accordance with the fair credit Reporting act XXXX Account # XXXX, has violated my rights. \\n15 USC 1681 Section 602 States I have the right to privacy.\\n\\n15 USC 1681 Section 604 A Section 2 : It also states a consumer reporting agency can not furnish a account without my written instructions.\\n\\n15 USC 1666B : A creditor may not treat a payment on a credit card account under an open end consumer credit plan as late for purpose.                                                                                                                                                                                                                                                                                                                                                                                                                                                                                                                                                                                                                                                                                                                                                                                                                                                                                                                                                                                                                                                                                                                                                                                                                                                                                                                                                                                                                                                                                                                                                                                                                                                                                                                                                                                                 3\n",
       "I was a victim of identity threat when I talked to the creditor. I told them there are several different variants of my name sent to my address. I have also sent in multiple letters asking them to validate the debt which they have yet to do. I have went through the credit reporting agencies and have been unsuccessful in my dispute along with my police reports.                                                                                                                                                                                                                                                                                                                                                                                                                                                                                                                                                                                                                                                                                                                                                                                                                                                                                                                                                                                                                                                                                                                                                                                                                                                                                                                                                                                                                                                                                                                                                                                                                                                                                                                                                                                                                                                                           2\n",
       "I am writing to dispute an account fraudulently opened in my name. I am a victim of identity theft and did not open this account .I am not responsible for any charges made to this account. \\nPlease close this account immediately. I would like to request copies of any documentation, such as applications and transaction records, showing the activity on this fraudulent account that provide proof I opened this account beyond a doubt like drivers license, passport, social security card. Thank you for your assistance                                                                                                                                                                                                                                                                                                                                                                                                                                                                                                                                                                                                                                                                                                                                                                                                                                                                                                                                                                                                                                                                                                                                                                                                                                                                                                                                                                                                                                                                                                                                                                                                                                                                                                                 2\n",
       "As a consumer natural person I am asserting my consumer rights pursuant 15 U.S. Code 1681b ( a ) ( 2 ) per my written instruction I say what can be on my consumer report. I did not consent nor contract with XXXX XXXX XXXX on Sunday XXXX XXXX. I request that this account XXXX is deleted. I ask that this alleged debt is verified and investigated. Pursuant 15 U.S. Code 1681a ( 4 ) There is a need to ensure that consumer reporting agencies exercise their grave responsibilities with fairness, impartiality, and a respect for the consumers right to privacy. The above account is a direct impact to my ability to exercise my right to credit because my reputation with this consumer reporting agency is inaccurate and I know that the banking system is dependent on this reporting. I ask for a copy of full credit file not report the full file.                                                                                                                                                                                                                                                                                                                                                                                                                                                                                                                                                                                                                                                                                                                                                                                                                                                                                                                                                                                                                                                                                                                                                                                                                                                                                                                                                                             2\n",
       "                                                                                                                                                                                                                                                                                                                                                                                                                                                                                                                                                                                                                                                                                                                                                                                                                                                                                                                                                                                                                                                                                                                                                                                                                                                                                                                                                                                                                                                                                                                                                                                                                                                                                                                                                                                                                                                                                                                                                                                                                                                                                                                                                                                                                                                    ..\n",
       "I am pleased to see some improvements on my report and some of the items which I have disputed were removed. However, there are still remaining items on my report which is unauthorized and resulted from identity theft. I am pleading for your help to remove these remaining items found on my report. Per FCRA section 605b, the credit bureau is required to remove any items listed on an identity theft report. \\nXXXX XXXX XXXX LA XXXX, CA XXXX Date Updated : XX/XX/XXXX ; XXXX XXXX XXXX XXXX, XXXX XXXX Date Updated : XX/XX/XXXX ; XXXX XXXX XXXX XXXX XXXX XXXX XXXX XX/XX/XXXX ; XXXX XXXX XXXX XX/XX/XXXX ; XXXX XXXX XX/XX/XXXX ; XXXX XXXX  XX/XX/XXXX ; XXXX XXXX XX/XX/XXXX ; XXXX OF XXXX XX/XX/XXXX ; XXXX XXXX XX/XX/XXXX ; XXXX XXXX XXXX XX/XX/XXXX ; XXXX XXXX XX/XX/XXXX ; XXXX XX/XX/XXXX                                                                                                                                                                                                                                                                                                                                                                                                                                                                                                                                                                                                                                                                                                                                                                                                                                                                                                                                                                                                                                                                                                                                                                                                                                                                                                                                                                                                                               1\n",
       "I requested copies of my credit report from XXXX  & equifax XX/XX/XXXX that had many inaccurateies. I called them XXXX to dispute 2 visible items XXXX XXXX ( verison ) {$320.00} from XX/XX/XXXX. I was told contact debt collectors and agencies linked to origins of account. I did and was treated very terrible and was given no information from them to verify facts. I called transunion back to update the conversations and to exercise my fair credit reporting rights. They opened their own dispute again for the multiple time. As per the same with Equifax. This is a money making business they want us to struggle and force us to higher 3 rd party law/credit building or repair instututions. I'm indigent! I can't afford this hassle I filed with the ftc fraud alert as suggested by them and now they say send all this other requested documentations. I'm confused where and when do the rights of a United States citizen go into effect? I have been ask series of authentication questions via the web and no pertain to me. When answered correctly access is denied. Credit monitoring done out side of the United States. Does GDPR apply here? How do I know that the generated questions are nothing more than a trap to suggest worse credit monitoring requirements? They set this up in hope anyone willing to pay their 3rd party agencies to fix false information that has been applied to my credit report? They are not being honest however the little proof I have will not be admissible because they are not based inside the United States. They have lied to me over the phone. They have redirected me. They said things to make me feel like they cared and requested me services that i denied. I want this fixed per myself. XXXX- {$320.00} XXXX, XXXX {$2800.00} XXXX, are not my accounts i have done and ask all the appropriate questions. Results are unsatisfied. I'm asking for backup. My word in writing XXXX XX/XX/XXXX they are not my accounts. XXXX I assume opened them and i asked that they be removed because they are hurting me in my desired time to request emergency funding not available due to the inaccuracies. I read by law these companies can be held liable.    1\n",
       "I made all my payments on time using the companies website but one month i got notice 30 days later that they never received the payment and that a 30 day late payment was on my history. This was not my fault because their website showed that they received the payment.                                                                                                                                                                                                                                                                                                                                                                                                                                                                                                                                                                                                                                                                                                                                                                                                                                                                                                                                                                                                                                                                                                                                                                                                                                                                                                                                                                                                                                                                                                                                                                                                                                                                                                                                                                                                                                                                                                                                                                        1\n",
       "Genesis FS Card Services Inc., XXXXXXXX ( Account # XXXX ) as shown on my credit report, is reporting 2 late payments via XXXX, XXXX XXXX and XXXX ; my account is on autopay and I have not paid late. This is inaccurate, determinantal, and in violation of my consumer rights. \\n\\nI have called Genesis FS Card Services Inc., XXXX ( Account # XXXX ) as shown on my credit report, and they've acknowledged and confirmed a dispute will be filled internal and sent to all major credit bureaus however, this never occurred due to fact it is still on my credit report. \\n\\nThis information is currently unfairly negatively impacting my personal credit limiting my ability to leverage financial tools to grow and expand my businesses/personal endeavors.                                                                                                                                                                                                                                                                                                                                                                                                                                                                                                                                                                                                                                                                                                                                                                                                                                                                                                                                                                                                                                                                                                                                                                                                                                                                                                                                                                                                                                                                            1\n",
       "I have tried to contact cash app about a fraudulent payment but they refused to provide me with the documents they used to investigate and deny my claim.                                                                                                                                                                                                                                                                                                                                                                                                                                                                                                                                                                                                                                                                                                                                                                                                                                                                                                                                                                                                                                                                                                                                                                                                                                                                                                                                                                                                                                                                                                                                                                                                                                                                                                                                                                                                                                                                                                                                                                                                                                                                                            1\n",
       "Name: count, Length: 353228, dtype: int64"
      ]
     },
     "execution_count": 8,
     "metadata": {},
     "output_type": "execute_result"
    }
   ],
   "source": [
    "complaints['narrative'].value_counts()"
   ]
  },
  {
   "cell_type": "code",
   "execution_count": 9,
   "id": "b42c95c6",
   "metadata": {},
   "outputs": [
    {
     "data": {
      "image/png": "[encoded data removed]",
      "text/plain": [
       "<Figure size 2500x1000 with 2 Axes>"
      ]
     },
     "metadata": {},
     "output_type": "display_data"
    }
   ],
   "source": [
    "msno.matrix(complaints);"
   ]
  },
  {
   "cell_type": "markdown",
   "id": "82c44bb2",
   "metadata": {},
   "source": [
    "Overall the dataset is pretty 'clean'.  As a simple exercise, let's see if we can do a simple sentiment analysis on it.  "
   ]
  },
  {
   "cell_type": "code",
   "execution_count": null,
   "id": "a69cd577",
   "metadata": {},
   "outputs": [],
   "source": []
  }
 ],
 "metadata": {
  "kernelspec": {
   "display_name": "Python 3 (ipykernel)",
   "language": "python",
   "name": "python3"
  },
  "language_info": {
   "codemirror_mode": {
    "name": "ipython",
    "version": 3
   },
   "file_extension": ".py",
   "mimetype": "text/x-python",
   "name": "python",
   "nbconvert_exporter": "python",
   "pygments_lexer": "ipython3",
   "version": "3.11.8"
  }
 },
 "nbformat": 4,
 "nbformat_minor": 5
}
