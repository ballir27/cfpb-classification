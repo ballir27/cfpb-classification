{
 "cells": [
  {
   "cell_type": "markdown",
   "id": "a858f423",
   "metadata": {},
   "source": [
    "# Classification of Consumer Complaints\n",
    "\n",
    "The Consumer Financial Protection Bureau publishes the Consumer Complaint Database, a collection of complaints about consumer financial products and services that were sent to companies for response. Complaints are published after the company responds, confirming a commercial relationship with the consumer, or after 15 days, whichever comes first. \n",
    "\n",
    "You have been provided with a dataset of over 350,000 such complaints for 5 common issue types. Your goal is to train a text classification model to identify the issue type based on the consumer complaint narrative. The data can be downloaded from https://drive.google.com/file/d/1Hz1gnCCr-SDGjnKgcPbg7Nd3NztOLdxw/view?usp=share_link \n",
    "\n",
    "At the end of the project, your team should should prepare a short presentation where you talk about the following:\n",
    "* What steps did you take to preprocess the data?\n",
    "* How did a model using unigrams compare to one using bigrams or trigrams?\n",
    "* How did a count vectorizer compare to a tfidf vectorizer?\n",
    "* What models did you try and how successful were they? Where did they struggle? Were there issues that the models commonly mixed up?\n",
    "* What words or phrases were most influential on your models' predictions?\n",
    "\n",
    "**Bonus:** A larger dataset containing 20 additional categories can be downloaded from https://drive.google.com/file/d/1gW6LScUL-Z7mH6gUZn-1aNzm4p4CvtpL/view?usp=share_link. How well do your models work with these additional categories?"
   ]
  },
  {
   "cell_type": "markdown",
   "id": "b341ffb4",
   "metadata": {},
   "source": [
    "To start with, I thought I would see if I could do a simple sentiment analysis on the data"
   ]
  },
  {
   "cell_type": "markdown",
   "id": "568fc3f6",
   "metadata": {},
   "source": [
    "##### VADER\n",
    "(Valence Aware Dictionary and sEntiment Reasoner) is a lexicon and rule-based sentiment analysis tool that is specifically attuned to sentiments expressed in social media. It is fully open-sourced under MIT license."
   ]
  },
  {
   "cell_type": "code",
   "execution_count": 2,
   "id": "dc0e1c49",
   "metadata": {},
   "outputs": [],
   "source": [
    "import numpy as np\n",
    "import pandas as pd\n",
    "from nltk import download\n",
    "from nltk.sentiment.vader import SentimentIntensityAnalyzer"
   ]
  },
  {
   "cell_type": "code",
   "execution_count": 3,
   "id": "59253fe9",
   "metadata": {},
   "outputs": [
    {
     "data": {
      "text/plain": [
       "True"
      ]
     },
     "execution_count": 3,
     "metadata": {},
     "output_type": "execute_result"
    }
   ],
   "source": [
    "# this is a scored list of words and jargon that the sentiment analyser\n",
    "# uses references when performing sentiment analysis\n",
    "download(\"vader_lexicon\", quiet=True)"
   ]
  },
  {
   "cell_type": "code",
   "execution_count": 4,
   "id": "559c390f",
   "metadata": {},
   "outputs": [],
   "source": [
    "complaints = pd.read_csv('../data/complaints.csv')"
   ]
  },
  {
   "cell_type": "code",
   "execution_count": 6,
   "id": "d9678dde",
   "metadata": {},
   "outputs": [],
   "source": [
    "complaints=complaints.rename(columns={'Consumer complaint narrative':'narrative', 'Issue':'issue'})"
   ]
  },
  {
   "cell_type": "code",
   "execution_count": 5,
   "id": "4c66a065",
   "metadata": {},
   "outputs": [],
   "source": [
    "analyser = SentimentIntensityAnalyzer()"
   ]
  },
  {
   "cell_type": "code",
   "execution_count": 7,
   "id": "45995f7b",
   "metadata": {},
   "outputs": [],
   "source": [
    "complaints[\"review_sentiment\"] = complaints[\"narrative\"].apply(lambda x: analyser.polarity_scores(text=str(x))[\"compound\"])"
   ]
  },
  {
   "cell_type": "code",
   "execution_count": 8,
   "id": "20e7e7d6",
   "metadata": {},
   "outputs": [
    {
     "name": "stdout",
     "output_type": "stream",
     "text": [
      "<class 'pandas.core.frame.DataFrame'>\n",
      "RangeIndex: 353432 entries, 0 to 353431\n",
      "Data columns (total 3 columns):\n",
      " #   Column            Non-Null Count   Dtype  \n",
      "---  ------            --------------   -----  \n",
      " 0   narrative         353432 non-null  object \n",
      " 1   issue             353432 non-null  object \n",
      " 2   review_sentiment  353432 non-null  float64\n",
      "dtypes: float64(1), object(2)\n",
      "memory usage: 8.1+ MB\n"
     ]
    }
   ],
   "source": [
    "complaints.info()"
   ]
  },
  {
   "cell_type": "code",
   "execution_count": 9,
   "id": "c9fdf666",
   "metadata": {},
   "outputs": [],
   "source": [
    "complaints_grouped = complaints.groupby(by=\"issue\")[\"review_sentiment\"].agg(func=[\"mean\",\"count\"]).sort_values(by=\"count\", ascending=False)"
   ]
  },
  {
   "cell_type": "code",
   "execution_count": 10,
   "id": "5e2400de",
   "metadata": {},
   "outputs": [
    {
     "data": {
      "text/html": [
       "<div>\n",
       "<style scoped>\n",
       "    .dataframe tbody tr th:only-of-type {\n",
       "        vertical-align: middle;\n",
       "    }\n",
       "\n",
       "    .dataframe tbody tr th {\n",
       "        vertical-align: top;\n",
       "    }\n",
       "\n",
       "    .dataframe thead th {\n",
       "        text-align: right;\n",
       "    }\n",
       "</style>\n",
       "<table border=\"1\" class=\"dataframe\">\n",
       "  <thead>\n",
       "    <tr style=\"text-align: right;\">\n",
       "      <th></th>\n",
       "      <th>mean</th>\n",
       "      <th>count</th>\n",
       "    </tr>\n",
       "    <tr>\n",
       "      <th>issue</th>\n",
       "      <th></th>\n",
       "      <th></th>\n",
       "    </tr>\n",
       "  </thead>\n",
       "  <tbody>\n",
       "    <tr>\n",
       "      <th>Incorrect information on your report</th>\n",
       "      <td>0.074080</td>\n",
       "      <td>229305</td>\n",
       "    </tr>\n",
       "    <tr>\n",
       "      <th>Attempts to collect debt not owed</th>\n",
       "      <td>-0.175104</td>\n",
       "      <td>73163</td>\n",
       "    </tr>\n",
       "    <tr>\n",
       "      <th>Communication tactics</th>\n",
       "      <td>-0.410674</td>\n",
       "      <td>21243</td>\n",
       "    </tr>\n",
       "    <tr>\n",
       "      <th>Struggling to pay mortgage</th>\n",
       "      <td>-0.060379</td>\n",
       "      <td>17374</td>\n",
       "    </tr>\n",
       "    <tr>\n",
       "      <th>Fraud or scam</th>\n",
       "      <td>-0.245331</td>\n",
       "      <td>12347</td>\n",
       "    </tr>\n",
       "  </tbody>\n",
       "</table>\n",
       "</div>"
      ],
      "text/plain": [
       "                                          mean   count\n",
       "issue                                                 \n",
       "Incorrect information on your report  0.074080  229305\n",
       "Attempts to collect debt not owed    -0.175104   73163\n",
       "Communication tactics                -0.410674   21243\n",
       "Struggling to pay mortgage           -0.060379   17374\n",
       "Fraud or scam                        -0.245331   12347"
      ]
     },
     "execution_count": 10,
     "metadata": {},
     "output_type": "execute_result"
    }
   ],
   "source": [
    "complaints_grouped"
   ]
  },
  {
   "cell_type": "markdown",
   "id": "b0b3a99e",
   "metadata": {},
   "source": [
    "Unsurprisingly, we can see that the the overall sentiment is fairly negative in all categories.  "
   ]
  },
  {
   "cell_type": "code",
   "execution_count": 11,
   "id": "8e969fc5",
   "metadata": {},
   "outputs": [],
   "source": [
    "complaints.to_csv('../data/complaints_sentimentscore.csv')"
   ]
  },
  {
   "cell_type": "code",
   "execution_count": null,
   "id": "5e3dba6e",
   "metadata": {},
   "outputs": [],
   "source": []
  }
 ],
 "metadata": {
  "kernelspec": {
   "display_name": "Python 3 (ipykernel)",
   "language": "python",
   "name": "python3"
  },
  "language_info": {
   "codemirror_mode": {
    "name": "ipython",
    "version": 3
   },
   "file_extension": ".py",
   "mimetype": "text/x-python",
   "name": "python",
   "nbconvert_exporter": "python",
   "pygments_lexer": "ipython3",
   "version": "3.11.8"
  }
 },
 "nbformat": 4,
 "nbformat_minor": 5
}
